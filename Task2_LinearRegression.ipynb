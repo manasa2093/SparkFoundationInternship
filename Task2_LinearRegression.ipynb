{
 "cells": [
  {
   "cell_type": "markdown",
   "metadata": {},
   "source": [
    "# GRIP - The Sparks Foundation\n",
    "\n",
    "### Task-2: To explore Supervised Machine Learning Algorithm\n",
    "\n",
    "In this project, I am going to build predictive model for accurately predicting  the marks obtained by a student based on the study hours.\n",
    "\n",
    "\n",
    "### ---TABLE OF CONTENTS---\n",
    "\n",
    "-Import packages\n",
    "\n",
    "-Reading Data in pandas Dataframe\n",
    "\n",
    "-Data Exploration- Regression plot\n",
    "\n",
    "-Preparing data\n",
    "\n",
    "-Linear Regression\n",
    "\n",
    "-Evaluating the Model\n",
    "\n",
    "### Objective:\n",
    "\n",
    "-To understand what the correlation between number of hours studies and scores.\n",
    "\n",
    "-To create a model that predicts the scores given the number of hours. \n"
   ]
  },
  {
   "cell_type": "markdown",
   "metadata": {},
   "source": [
    "## ---IMPORT PACKAGES---"
   ]
  },
  {
   "cell_type": "code",
   "execution_count": 65,
   "metadata": {},
   "outputs": [],
   "source": [
    "#Import necessary libraries-\n",
    "import pandas as pd\n",
    "import numpy as np\n",
    "import matplotlib.pyplot as plt\n",
    "import matplotlib as mpl\n",
    "import sklearn as sk\n",
    "import seaborn as sns\n",
    "from sklearn.model_selection import train_test_split \n",
    "from sklearn.linear_model import LinearRegression \n",
    "from sklearn.metrics import r2_score, mean_squared_error, mean_absolute_error\n",
    "\n",
    "__author__ = \"Manasa Nallavelli\"\n",
    "__email__ = \"manasa2093@gmail.com\""
   ]
  },
  {
   "cell_type": "markdown",
   "metadata": {},
   "source": [
    "## --READING DATA--"
   ]
  },
  {
   "cell_type": "code",
   "execution_count": 4,
   "metadata": {},
   "outputs": [
    {
     "data": {
      "text/html": [
       "<div>\n",
       "<style scoped>\n",
       "    .dataframe tbody tr th:only-of-type {\n",
       "        vertical-align: middle;\n",
       "    }\n",
       "\n",
       "    .dataframe tbody tr th {\n",
       "        vertical-align: top;\n",
       "    }\n",
       "\n",
       "    .dataframe thead th {\n",
       "        text-align: right;\n",
       "    }\n",
       "</style>\n",
       "<table border=\"1\" class=\"dataframe\">\n",
       "  <thead>\n",
       "    <tr style=\"text-align: right;\">\n",
       "      <th></th>\n",
       "      <th>Hours</th>\n",
       "      <th>Scores</th>\n",
       "    </tr>\n",
       "  </thead>\n",
       "  <tbody>\n",
       "    <tr>\n",
       "      <th>0</th>\n",
       "      <td>2.5</td>\n",
       "      <td>21</td>\n",
       "    </tr>\n",
       "    <tr>\n",
       "      <th>1</th>\n",
       "      <td>5.1</td>\n",
       "      <td>47</td>\n",
       "    </tr>\n",
       "    <tr>\n",
       "      <th>2</th>\n",
       "      <td>3.2</td>\n",
       "      <td>27</td>\n",
       "    </tr>\n",
       "  </tbody>\n",
       "</table>\n",
       "</div>"
      ],
      "text/plain": [
       "   Hours  Scores\n",
       "0    2.5      21\n",
       "1    5.1      47\n",
       "2    3.2      27"
      ]
     },
     "execution_count": 4,
     "metadata": {},
     "output_type": "execute_result"
    }
   ],
   "source": [
    "#Reading data in Pandas Dataframe\n",
    "url = \"http://bit.ly/w-data\"\n",
    "df = pd.read_csv(url)"
   ]
  },
  {
   "cell_type": "markdown",
   "metadata": {},
   "source": [
    "## ---DATA EXPLORATION---"
   ]
  },
  {
   "cell_type": "code",
   "execution_count": 31,
   "metadata": {},
   "outputs": [
    {
     "data": {
      "text/plain": [
       "Text(0, 0.5, 'Number of Scores')"
      ]
     },
     "execution_count": 31,
     "metadata": {},
     "output_type": "execute_result"
    },
    {
     "data": {
      "image/png": "[encoded data removed]",
      "text/plain": [
       "<Figure size 1080x432 with 2 Axes>"
      ]
     },
     "metadata": {
      "needs_background": "light"
     },
     "output_type": "display_data"
    }
   ],
   "source": [
    "#Lets see the distribution of scores and hours individually \n",
    "\n",
    "d, axes = plt.subplots(ncols=2, figsize=(15, 6))\n",
    "ax = df['Hours'].plot(kind='hist',ax=axes[0], color=\"b\")\n",
    "ax1 = df['Scores'].plot(kind='hist',ax=axes[1], color=\"r\")\n",
    "\n",
    "ax.set_title(\"Histogram of Hours\")\n",
    "ax.set_xlabel('Hours')\n",
    "ax.set_ylabel('Number of Hours')\n",
    "\n",
    "ax1.set_title(\"Histogram of Scores\")\n",
    "ax1.set_xlabel('Scores')\n",
    "ax1.set_ylabel('Number of Scores')"
   ]
  },
  {
   "cell_type": "markdown",
   "metadata": {},
   "source": [
    "Histogram of hours looks like bimodal distribution with 2 peaks - one between 1 to 3 and another between 7 to 9.\n",
    "\n",
    "Histogram of Scores, it shows highest peak between 20 to 30 and somewhat lowest from 60 onwards. \n",
    "\n",
    "We will examine the correlation between these two varibles by plotting a scatter plot. "
   ]
  },
  {
   "cell_type": "code",
   "execution_count": 38,
   "metadata": {},
   "outputs": [
    {
     "data": {
      "image/png": "[encoded data removed]",
      "text/plain": [
       "<Figure size 576x432 with 1 Axes>"
      ]
     },
     "metadata": {
      "needs_background": "light"
     },
     "output_type": "display_data"
    }
   ],
   "source": [
    "fig = plt.figure(figsize=(8,6))\n",
    "\n",
    "plt.scatter(df.Hours,df.Scores)\n",
    "plt.title(\"Hours vs Scores\", fontsize=16)\n",
    "plt.xlabel(\"Hours\")\n",
    "plt.ylabel(\"Scores\")\n",
    "plt.show()"
   ]
  },
  {
   "cell_type": "markdown",
   "metadata": {},
   "source": [
    "The above graph shows a Linear relationship between the Hours studies and Scores. With increase in number of hours there is a constant increase in Scores. \n",
    "\n",
    "We can further examine this by plotting a reg plot to confirm the existance of above relationship. "
   ]
  },
  {
   "cell_type": "code",
   "execution_count": 41,
   "metadata": {},
   "outputs": [
    {
     "data": {
      "text/plain": [
       "Text(0, 0.5, 'Scores')"
      ]
     },
     "execution_count": 41,
     "metadata": {},
     "output_type": "execute_result"
    },
    {
     "data": {
      "image/png": "[encoded data removed]",
      "text/plain": [
       "<Figure size 432x288 with 1 Axes>"
      ]
     },
     "metadata": {
      "needs_background": "light"
     },
     "output_type": "display_data"
    }
   ],
   "source": [
    "sns.regplot(x=df.Hours, y=df.Scores, line_kws={\"color\":\"r\",\"alpha\":0.7,\"lw\":2})\n",
    "plt.title('Hours vs Scores')\n",
    "plt.xlabel('Hours')\n",
    "plt.ylabel('Scores')"
   ]
  },
  {
   "cell_type": "markdown",
   "metadata": {},
   "source": [
    "We can confirm that there is strong positive corelation between the relationship between Hours and Scores. \n",
    "\n",
    "Now, lets prepare the data and train \"Linear Regression\" model.\n"
   ]
  },
  {
   "cell_type": "markdown",
   "metadata": {},
   "source": [
    "## ---PREPARING DATA---"
   ]
  },
  {
   "cell_type": "code",
   "execution_count": 50,
   "metadata": {},
   "outputs": [],
   "source": [
    "x = df.iloc[:, :-1]\n",
    "y = df.iloc[:, 1] "
   ]
  },
  {
   "cell_type": "code",
   "execution_count": 51,
   "metadata": {},
   "outputs": [],
   "source": [
    "x_train, x_test, y_train, y_test = train_test_split(x,y,test_size=0.20, random_state=0)"
   ]
  },
  {
   "cell_type": "markdown",
   "metadata": {},
   "source": [
    "We split the data in 80-20% for training and testing. \n",
    "\n",
    "Next, we will fit \"Linear Regression\" model."
   ]
  },
  {
   "cell_type": "markdown",
   "metadata": {},
   "source": [
    "## ---LINEAR REGRESSION---"
   ]
  },
  {
   "cell_type": "code",
   "execution_count": 55,
   "metadata": {},
   "outputs": [],
   "source": [
    "#Intializing the model\n",
    "lr = LinearRegression()\n",
    "\n",
    "#Fitting the model\n",
    "lr = lr.fit(x_train,y_train)\n",
    "\n",
    "#making predictions\n",
    "y_predict = lr.predict(x_test)"
   ]
  },
  {
   "cell_type": "code",
   "execution_count": 56,
   "metadata": {},
   "outputs": [],
   "source": [
    "#creating new dataframe with actual and predicted results \n",
    "results = pd.DataFrame({'Actual':y_test,'Predicted':y_predict})"
   ]
  },
  {
   "cell_type": "code",
   "execution_count": 63,
   "metadata": {},
   "outputs": [
    {
     "data": {
      "text/plain": [
       "<matplotlib.axes._subplots.AxesSubplot at 0x1a24bee8d0>"
      ]
     },
     "execution_count": 63,
     "metadata": {},
     "output_type": "execute_result"
    },
    {
     "data": {
      "image/png": "[encoded data removed]",
      "text/plain": [
       "<Figure size 576x432 with 1 Axes>"
      ]
     },
     "metadata": {
      "needs_background": "light"
     },
     "output_type": "display_data"
    }
   ],
   "source": [
    "#We will check how accurately the the linear Regression model predicted the results by plotting a dist plot \n",
    "fig = plt.figure(figsize=(8,6))\n",
    "ax1 = sns.distplot(results.Actual,hist=False,color='b',label='Actual',kde_kws={\"shade\": True})\n",
    "sns.distplot(results.Predicted,hist=False,color='r',label='Predicted',ax=ax1,kde_kws={\"shade\": True})"
   ]
  },
  {
   "cell_type": "markdown",
   "metadata": {},
   "source": [
    "#We can observe that the Linear model acurately predicted the results expect for 5-10% of data. Let us evalute this model and check if our assumptions are true. "
   ]
  },
  {
   "cell_type": "markdown",
   "metadata": {},
   "source": [
    "## --EVALUATING MODEL--"
   ]
  },
  {
   "cell_type": "code",
   "execution_count": 68,
   "metadata": {},
   "outputs": [],
   "source": [
    "# Store r^2 and mse in variables\n",
    "r2 = format(r2_score(y_test, y_predict),'.3f')\n",
    "mse = format(mean_absolute_error(y_test, y_predict),'.3f')"
   ]
  },
  {
   "cell_type": "code",
   "execution_count": 69,
   "metadata": {},
   "outputs": [
    {
     "name": "stdout",
     "output_type": "stream",
     "text": [
      "R Squared Score:  0.945\n",
      "Mean Absolute Error:  4.184\n"
     ]
    }
   ],
   "source": [
    "print(\"R Squared Score: \", r2)\n",
    "print(\"Mean Absolute Error: \", mse)"
   ]
  },
  {
   "cell_type": "markdown",
   "metadata": {},
   "source": [
    "Wow the r^2 is 94% - meaning 94% of variation in Scores is expplained by number of hours.\n",
    "\n",
    "Hence, we can assume Linear Regression is best fit for our data.  "
   ]
  },
  {
   "cell_type": "code",
   "execution_count": null,
   "metadata": {},
   "outputs": [],
   "source": []
  }
 ],
 "metadata": {
  "kernelspec": {
   "display_name": "Python 3",
   "language": "python",
   "name": "python3"
  },
  "language_info": {
   "codemirror_mode": {
    "name": "ipython",
    "version": 3
   },
   "file_extension": ".py",
   "mimetype": "text/x-python",
   "name": "python",
   "nbconvert_exporter": "python",
   "pygments_lexer": "ipython3",
   "version": "3.7.6"
  }
 },
 "nbformat": 4,
 "nbformat_minor": 4
}
